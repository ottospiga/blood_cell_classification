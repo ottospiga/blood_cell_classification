{
 "cells": [
  {
   "cell_type": "markdown",
   "metadata": {},
   "source": [
    "# 04 - Baseline Model Sampled\n",
    "\n",
    "In this notebook, we are going to sample the data and pass it into the logistic regression model.\n",
    "\n",
    "(Our sample is gonna be equalized/normalize by the classes, equal amount for each class)\n",
    "\n",
    "### Steps: \n",
    " - Importing/accessing the data\n",
    " - Separating the Train and Test Data\n",
    " - (Upload and Download the model in case you just want to evaluate)\n",
    " - Fit the model (in this case, train the logistic regression)\n",
    " - Evaluate the model\n",
    "    - Accuracy, Precision, Recall, f1  .....  Confusion Matrix \n",
    " - Using the model to predict the specific images"
   ]
  },
  {
   "cell_type": "markdown",
   "metadata": {
    "jp-MarkdownHeadingCollapsed": true
   },
   "source": [
    "## Importing/accessing the data"
   ]
  },
  {
   "cell_type": "markdown",
   "metadata": {},
   "source": [
    "First, importing the libs and treating the data:"
   ]
  },
  {
   "cell_type": "code",
   "execution_count": 3,
   "metadata": {},
   "outputs": [],
   "source": [
    "import os\n",
    "import cv2\n",
    "import numpy as np\n",
    "from sklearn.model_selection import train_test_split\n",
    "from sklearn.linear_model import LogisticRegression\n",
    "from sklearn.metrics import accuracy_score\n",
    "\n",
    "dataset_directory = '../datasets/dataset_normal/'\n",
    "\n",
    "# Load and preprocess images\n",
    "def load_images(directory):\n",
    "    images = []\n",
    "    labels = []\n",
    "    for label, folder in enumerate(os.listdir(directory)):\n",
    "        for filename in os.listdir(os.path.join(directory, folder)):\n",
    "            img = cv2.imread(os.path.join(directory, folder, filename))\n",
    "            img = cv2.resize(img, (100, 100))  # Resize image\n",
    "            img = cv2.cvtColor(img, cv2.COLOR_BGR2GRAY)  # Convert to grayscale\n",
    "            images.append(img.flatten())  # Flatten image\n",
    "            labels.append(label)\n",
    "    return np.array(images), np.array(labels)\n",
    "\n",
    "# Feature extraction\n",
    "images, labels = load_images(dataset_directory)\n",
    "\n",
    "# Feature scaling (optional but recommended)\n",
    "images = images / 255.0  # Scale pixel values to range [0, 1]\n"
   ]
  },
  {
   "cell_type": "code",
   "execution_count": 4,
   "metadata": {},
   "outputs": [
    {
     "data": {
      "text/plain": [
       "(17092, 10000)"
      ]
     },
     "execution_count": 4,
     "metadata": {},
     "output_type": "execute_result"
    }
   ],
   "source": [
    "# Sanity Check\n",
    "images.shape\n",
    "# labels"
   ]
  },
  {
   "cell_type": "markdown",
   "metadata": {
    "jp-MarkdownHeadingCollapsed": true
   },
   "source": [
    "## Separeting the Train and Test Data"
   ]
  },
  {
   "cell_type": "markdown",
   "metadata": {},
   "source": [
    "Spliting data into training and testing sets"
   ]
  },
  {
   "cell_type": "code",
   "execution_count": 16,
   "metadata": {},
   "outputs": [],
   "source": [
    "# Spliting data into training and testing sets\n",
    "X_train, X_test, y_train, y_test = train_test_split(images, labels, train_size=0.6, test_size=0.2, stratify=labels, random_state=42)\n"
   ]
  },
  {
   "cell_type": "code",
   "execution_count": 17,
   "metadata": {},
   "outputs": [
    {
     "name": "stdout",
     "output_type": "stream",
     "text": [
      "(10255, 10000)\n",
      "(10255,)\n",
      "(3419, 10000)\n",
      "(10255,)\n"
     ]
    }
   ],
   "source": [
    "print(X_train.shape)\n",
    "print(y_train.shape)\n",
    "# print(y_train)\n",
    "print(X_test.shape)\n",
    "print(y_train.shape)"
   ]
  },
  {
   "cell_type": "code",
   "execution_count": 18,
   "metadata": {},
   "outputs": [
    {
     "data": {
      "image/png": "[encoded data removed]",
      "text/plain": [
       "<Figure size 640x480 with 1 Axes>"
      ]
     },
     "metadata": {},
     "output_type": "display_data"
    }
   ],
   "source": [
    "import matplotlib.pyplot as plt\n",
    "plt.figure()\n",
    "plt.hist(y_train, bins=30)\n",
    "plt.show()"
   ]
  },
  {
   "cell_type": "code",
   "execution_count": 19,
   "metadata": {},
   "outputs": [],
   "source": [
    "from sklearn.utils import resample\n",
    "\n",
    "# Calculate the size of the smallest class\n",
    "min_class_size = min(np.bincount(y_train))\n",
    "\n",
    "# Undersampling majority classes to match the size of the minority class\n",
    "X_train_balanced = []\n",
    "y_train_balanced = []\n",
    "for i in range(8):  # Assuming you have 8 classes\n",
    "    X_class_i = X_train[y_train == i]\n",
    "    y_class_i = y_train[y_train == i]\n",
    "    X_class_i_resampled, y_class_i_resampled = resample(X_class_i, y_class_i, n_samples=min_class_size, random_state=42)\n",
    "    X_train_balanced.append(X_class_i_resampled)\n",
    "    y_train_balanced.append(y_class_i_resampled)\n",
    "\n",
    "X_train_balanced = np.concatenate(X_train_balanced)\n",
    "y_train_balanced = np.concatenate(y_train_balanced)\n",
    "\n",
    "# #-------------------------\n",
    "# # Oversampling minority classes to match the size of the majority class\n",
    "# # You can use techniques like SMOTE for better synthetic sampling\n",
    "# # Here, I'm just duplicating existing samples\n",
    "# X_train_balanced_oversampled = []\n",
    "# y_train_balanced_oversampled = []\n",
    "# for i in range(8):  # Assuming you have 8 classes\n",
    "#     X_class_i = X_train[y_train == i]\n",
    "#     y_class_i = y_train[y_train == i]\n",
    "#     X_class_i_oversampled, y_class_i_oversampled = resample(X_class_i, y_class_i, n_samples=len(X_train_balanced), random_state=42)\n",
    "#     X_train_balanced_oversampled.append(X_class_i_oversampled)\n",
    "#     y_train_balanced_oversampled.append(y_class_i_oversampled)\n",
    "\n",
    "# X_train_balanced_oversampled = np.concatenate(X_train_balanced_oversampled)\n",
    "# y_train_balanced_oversampled = np.concatenate(y_train_balanced_oversampled)\n"
   ]
  },
  {
   "cell_type": "code",
   "execution_count": 20,
   "metadata": {},
   "outputs": [
    {
     "name": "stdout",
     "output_type": "stream",
     "text": [
      "(5824, 10000)\n",
      "(5824,)\n"
     ]
    }
   ],
   "source": [
    "print(X_train_balanced.shape)\n",
    "print(y_train_balanced.shape)\n",
    "# print(y_train)\n"
   ]
  },
  {
   "cell_type": "code",
   "execution_count": 21,
   "metadata": {},
   "outputs": [
    {
     "data": {
      "image/png": "[encoded data removed]",
      "text/plain": [
       "<Figure size 640x480 with 1 Axes>"
      ]
     },
     "metadata": {},
     "output_type": "display_data"
    }
   ],
   "source": [
    "import matplotlib.pyplot as plt\n",
    "plt.figure()\n",
    "plt.hist(y_train_balanced, bins=30)\n",
    "plt.show()"
   ]
  },
  {
   "cell_type": "code",
   "execution_count": null,
   "metadata": {},
   "outputs": [],
   "source": []
  },
  {
   "cell_type": "markdown",
   "metadata": {
    "jp-MarkdownHeadingCollapsed": true
   },
   "source": [
    "## (Upload and Donwload the model in case you just want to evaluete)"
   ]
  },
  {
   "cell_type": "markdown",
   "metadata": {},
   "source": [
    "In case we already have the model trained we can upload and skip the Fit/training the model:"
   ]
  },
  {
   "cell_type": "code",
   "execution_count": 22,
   "metadata": {},
   "outputs": [],
   "source": [
    "# ATENTION !!\n",
    "\n",
    "# import joblib\n",
    "\n",
    "# # Save the model\n",
    "# joblib.dump(logreg, 'logistic_regression_model_sampled_baseline.pkl')\n",
    "\n",
    "# Load the model\n",
    "# logreg = joblib.load('../models/logistic_regression_model.pkl')\n",
    "# result = logreg.score(X_test, y_test)\n",
    "# print(result)"
   ]
  },
  {
   "cell_type": "markdown",
   "metadata": {},
   "source": [
    "## Fit the model (in this case, train the logistic regression)"
   ]
  },
  {
   "cell_type": "markdown",
   "metadata": {},
   "source": [
    "Training/fiting the models"
   ]
  },
  {
   "cell_type": "code",
   "execution_count": null,
   "metadata": {
    "scrolled": true
   },
   "outputs": [
    {
     "name": "stderr",
     "output_type": "stream",
     "text": [
      "[Parallel(n_jobs=1)]: Using backend SequentialBackend with 1 concurrent workers.\n",
      " This problem is unconstrained.\n"
     ]
    },
    {
     "name": "stdout",
     "output_type": "stream",
     "text": [
      "RUNNING THE L-BFGS-B CODE\n",
      "\n",
      "           * * *\n",
      "\n",
      "Machine precision = 2.220D-16\n",
      " N =        80008     M =           10\n",
      "\n",
      "At X0         0 variables are exactly at the bounds\n",
      "\n",
      "At iterate    0    f=  1.21107D+04    |proj g|=  3.13919D+02\n",
      "\n",
      "At iterate   50    f=  4.34393D+03    |proj g|=  3.68220D+01\n",
      "\n",
      "At iterate  100    f=  3.41054D+03    |proj g|=  2.41499D+01\n",
      "\n",
      "At iterate  150    f=  2.79793D+03    |proj g|=  1.32962D+01\n",
      "\n",
      "At iterate  200    f=  2.16536D+03    |proj g|=  1.98773D+01\n",
      "\n",
      "At iterate  250    f=  1.81670D+03    |proj g|=  1.67473D+01\n",
      "\n",
      "At iterate  300    f=  1.38089D+03    |proj g|=  9.09140D+00\n",
      "\n",
      "At iterate  350    f=  1.15448D+03    |proj g|=  1.18967D+01\n",
      "\n",
      "At iterate  400    f=  1.00547D+03    |proj g|=  9.28961D+00\n",
      "\n",
      "At iterate  450    f=  9.21455D+02    |proj g|=  8.46029D+00\n",
      "\n",
      "At iterate  500    f=  8.70041D+02    |proj g|=  3.67053D+00\n",
      "\n",
      "At iterate  550    f=  8.37950D+02    |proj g|=  6.13484D+00\n",
      "\n",
      "At iterate  600    f=  8.10379D+02    |proj g|=  6.92017D+00\n",
      "\n",
      "At iterate  650    f=  7.96162D+02    |proj g|=  2.09066D+00\n",
      "\n",
      "At iterate  700    f=  7.85654D+02    |proj g|=  1.59846D+00\n",
      "\n",
      "At iterate  750    f=  7.76160D+02    |proj g|=  9.95367D-01\n",
      "\n",
      "At iterate  800    f=  7.72038D+02    |proj g|=  1.48791D+00\n",
      "\n",
      "At iterate  850    f=  7.66461D+02    |proj g|=  1.12926D+00\n",
      "\n",
      "At iterate  900    f=  7.63994D+02    |proj g|=  1.25675D+00\n",
      "\n",
      "At iterate  950    f=  7.61776D+02    |proj g|=  8.69228D-01\n",
      "\n",
      "At iterate 1000    f=  7.60646D+02    |proj g|=  9.40463D-01\n",
      "\n",
      "At iterate 1050    f=  7.58262D+02    |proj g|=  1.96422D+00\n",
      "\n",
      "At iterate 1100    f=  7.56597D+02    |proj g|=  9.34803D-01\n",
      "\n",
      "At iterate 1150    f=  7.55918D+02    |proj g|=  8.36903D-01\n",
      "\n",
      "At iterate 1200    f=  7.55135D+02    |proj g|=  1.86749D+00\n",
      "\n",
      "At iterate 1250    f=  7.54285D+02    |proj g|=  1.53648D+00\n",
      "\n",
      "At iterate 1300    f=  7.53512D+02    |proj g|=  6.40541D-01\n",
      "\n",
      "At iterate 1350    f=  7.52904D+02    |proj g|=  7.32106D-01\n",
      "\n",
      "At iterate 1400    f=  7.52731D+02    |proj g|=  9.11334D-01\n",
      "\n",
      "At iterate 1450    f=  7.52593D+02    |proj g|=  8.93795D-01\n",
      "\n",
      "At iterate 1500    f=  7.52415D+02    |proj g|=  7.09523D-01\n",
      "\n",
      "At iterate 1550    f=  7.52198D+02    |proj g|=  8.81559D-01\n",
      "\n",
      "At iterate 1600    f=  7.51728D+02    |proj g|=  8.97675D-01\n",
      "\n",
      "At iterate 1650    f=  7.51528D+02    |proj g|=  8.64312D-01\n",
      "\n",
      "At iterate 1700    f=  7.51168D+02    |proj g|=  8.05206D-01\n",
      "\n",
      "At iterate 1750    f=  7.51004D+02    |proj g|=  8.58083D-01\n",
      "\n",
      "At iterate 1800    f=  7.50931D+02    |proj g|=  8.00550D-01\n",
      "\n",
      "At iterate 1850    f=  7.50740D+02    |proj g|=  7.98995D-01\n",
      "\n",
      "At iterate 1900    f=  7.50556D+02    |proj g|=  7.91959D-01\n",
      "\n",
      "At iterate 1950    f=  7.50353D+02    |proj g|=  7.77546D-01\n",
      "\n",
      "At iterate 2000    f=  7.50113D+02    |proj g|=  1.10260D+00\n",
      "\n",
      "At iterate 2050    f=  7.49843D+02    |proj g|=  8.19955D-01\n",
      "\n",
      "At iterate 2100    f=  7.49758D+02    |proj g|=  7.44988D-01\n",
      "\n",
      "At iterate 2150    f=  7.48516D+02    |proj g|=  6.65276D-01\n",
      "\n",
      "At iterate 2200    f=  7.47102D+02    |proj g|=  6.72513D-01\n",
      "\n",
      "At iterate 2250    f=  7.46362D+02    |proj g|=  9.67826D-01\n",
      "\n",
      "At iterate 2300    f=  7.45810D+02    |proj g|=  5.90732D-01\n",
      "\n",
      "At iterate 2350    f=  7.44867D+02    |proj g|=  1.07315D+00\n",
      "\n",
      "At iterate 2400    f=  7.43954D+02    |proj g|=  1.29986D+00\n",
      "\n",
      "At iterate 2450    f=  7.42526D+02    |proj g|=  1.67709D+00\n",
      "\n",
      "At iterate 2500    f=  7.41217D+02    |proj g|=  1.62759D+00\n",
      "\n",
      "At iterate 2550    f=  7.39499D+02    |proj g|=  8.39161D-01\n",
      "\n",
      "At iterate 2600    f=  7.38542D+02    |proj g|=  1.10959D+00\n",
      "\n",
      "At iterate 2650    f=  7.37846D+02    |proj g|=  4.08127D-01\n",
      "\n",
      "At iterate 2700    f=  7.36071D+02    |proj g|=  8.22951D-01\n",
      "\n",
      "At iterate 2750    f=  7.32794D+02    |proj g|=  1.14081D+00\n",
      "\n",
      "At iterate 2800    f=  7.30972D+02    |proj g|=  2.69623D+00\n",
      "\n",
      "At iterate 2850    f=  7.28503D+02    |proj g|=  4.48299D-01\n",
      "\n",
      "At iterate 2900    f=  7.27143D+02    |proj g|=  3.41808D-01\n",
      "\n",
      "At iterate 2950    f=  7.26598D+02    |proj g|=  5.42714D-01\n",
      "\n",
      "At iterate 3000    f=  7.26334D+02    |proj g|=  6.15254D-01\n",
      "\n",
      "At iterate 3050    f=  7.26113D+02    |proj g|=  5.14995D-01\n",
      "\n",
      "At iterate 3100    f=  7.25944D+02    |proj g|=  3.14124D-01\n",
      "\n",
      "At iterate 3150    f=  7.25778D+02    |proj g|=  8.39401D-01\n",
      "\n",
      "At iterate 3200    f=  7.25608D+02    |proj g|=  2.82063D-01\n",
      "\n",
      "At iterate 3250    f=  7.25458D+02    |proj g|=  3.60549D-01\n",
      "\n",
      "At iterate 3300    f=  7.25266D+02    |proj g|=  4.13827D-01\n",
      "\n",
      "At iterate 3350    f=  7.25150D+02    |proj g|=  6.46894D-01\n",
      "\n",
      "At iterate 3400    f=  7.25045D+02    |proj g|=  5.27650D-01\n",
      "\n",
      "At iterate 3450    f=  7.24946D+02    |proj g|=  3.87858D-01\n",
      "\n",
      "At iterate 3500    f=  7.24870D+02    |proj g|=  3.39017D-01\n",
      "\n",
      "At iterate 3550    f=  7.24829D+02    |proj g|=  3.45147D-01\n",
      "\n",
      "At iterate 3600    f=  7.24784D+02    |proj g|=  3.23448D-01\n",
      "\n",
      "At iterate 3650    f=  7.24707D+02    |proj g|=  2.10400D-01\n",
      "\n",
      "At iterate 3700    f=  7.24681D+02    |proj g|=  3.07463D-01\n",
      "\n",
      "At iterate 3750    f=  7.24662D+02    |proj g|=  3.58137D-01\n",
      "\n",
      "At iterate 3800    f=  7.24629D+02    |proj g|=  3.34133D-01\n",
      "\n",
      "At iterate 3850    f=  7.24611D+02    |proj g|=  3.90847D-01\n",
      "\n",
      "At iterate 3900    f=  7.24574D+02    |proj g|=  3.43353D-01\n",
      "\n",
      "At iterate 3950    f=  7.24467D+02    |proj g|=  2.92035D-01\n",
      "\n",
      "At iterate 4000    f=  7.24304D+02    |proj g|=  2.41819D-01\n"
     ]
    }
   ],
   "source": [
    "# Training logistic regression model\n",
    "logreg = LogisticRegression(\n",
    "    max_iter=10000,\n",
    "    verbose=1,\n",
    "    warm_start=True\n",
    ")\n",
    "\n",
    "logreg.fit(X_train_balanced, y_train_balanced)\n",
    "# logreg.fit(X_train, y_train)\n"
   ]
  },
  {
   "cell_type": "code",
   "execution_count": null,
   "metadata": {},
   "outputs": [],
   "source": [
    "#To save the model after treining\n",
    "\n",
    "# import joblib\n",
    "\n",
    "# # Save the model\n",
    "# joblib.dump(logreg, 'logistic_regression_model_sampled_baseline.pkl')"
   ]
  },
  {
   "cell_type": "markdown",
   "metadata": {},
   "source": [
    "## Evaluete the model"
   ]
  },
  {
   "cell_type": "markdown",
   "metadata": {},
   "source": [
    "Seeing how the model peform with the train and test data:"
   ]
  },
  {
   "cell_type": "code",
   "execution_count": null,
   "metadata": {},
   "outputs": [],
   "source": [
    "# Training and test score\n",
    "print(f\"Train score: {logreg.score(X_train, y_train)}\")\n",
    "print(f\"Test score: {logreg.score(X_test, y_test)}\")\n",
    "\n"
   ]
  },
  {
   "cell_type": "code",
   "execution_count": null,
   "metadata": {},
   "outputs": [],
   "source": []
  },
  {
   "cell_type": "markdown",
   "metadata": {},
   "source": [
    "### Accuracy, Precision, Recall, f1\n",
    "\n",
    "Getting Accuracy, Precision, Recall and f1 from the model and seeing in each class"
   ]
  },
  {
   "cell_type": "code",
   "execution_count": null,
   "metadata": {},
   "outputs": [],
   "source": [
    "# Evaluating the model\n",
    "y_pred = logreg.predict(X_test)\n",
    "accuracy = accuracy_score(y_test, y_pred)\n",
    "print(\"Accuracy:\", accuracy)"
   ]
  },
  {
   "cell_type": "code",
   "execution_count": null,
   "metadata": {},
   "outputs": [],
   "source": [
    "from sklearn.metrics import classification_report\n",
    "\n",
    "report_initial = classification_report(y_test, y_pred)\n",
    "print(report_initial)"
   ]
  },
  {
   "cell_type": "markdown",
   "metadata": {},
   "source": [
    "### Confusion Matrix \n",
    "\n",
    "Plotting the confusion Matrix (as a porcentage) and observate the classification from the model"
   ]
  },
  {
   "cell_type": "code",
   "execution_count": null,
   "metadata": {},
   "outputs": [],
   "source": [
    "import matplotlib.pyplot as plt\n",
    "from sklearn.metrics import confusion_matrix, ConfusionMatrixDisplay\n",
    "\n",
    "ConfusionMatrixDisplay.from_predictions(y_test, y_pred, normalize='all', values_format='.2f')\n",
    "plt.title('Confusion Matrix')\n",
    "plt.show()\n"
   ]
  },
  {
   "cell_type": "markdown",
   "metadata": {},
   "source": [
    "### One-vs-Rest (OvR) multiclass ROC\n",
    "\n",
    "Evaluating the ROC-AUC from the models.\n",
    "\n",
    "Using the LabelBinarizer to normalize the data, calculationg the micro and macro average and plotting all classes to see theirs respective curves/values.\n",
    "\n",
    "\n",
    "More information at: https://scikit-learn.org/stable/auto_examples/model_selection/plot_roc.html"
   ]
  },
  {
   "cell_type": "code",
   "execution_count": null,
   "metadata": {},
   "outputs": [],
   "source": [
    "from sklearn.preprocessing import LabelBinarizer\n",
    "\n",
    "# use a LabelBinarizer to binarize the target by one-hot-encoding in a OvR fashion.\n",
    "# This means that the target of shape (n_samples,) is mapped to a target of shape (n_samples, n_classes).\n",
    "\n",
    "label_binarizer = LabelBinarizer().fit(y_train)\n",
    "y_onehot_test = label_binarizer.transform(y_test)\n",
    "y_onehot_test.shape  # (n_samples, n_classes)\n",
    "\n",
    "# #check the encoding of a specific class: #SanityCheck\n",
    "# label_binarizer.transform([1])"
   ]
  },
  {
   "cell_type": "code",
   "execution_count": null,
   "metadata": {},
   "outputs": [],
   "source": [
    "cells = {\n",
    "    0 : 'basophil',\n",
    "    1 : 'eosinophil',\n",
    "    2 : 'erythroblast',\n",
    "    3 : 'ig',\n",
    "    4 : 'lymphocyte',\n",
    "    5 : 'monocyte',\n",
    "    6 : 'neutrophil',\n",
    "    7 : 'platelet',\n",
    "}"
   ]
  },
  {
   "cell_type": "code",
   "execution_count": null,
   "metadata": {
    "scrolled": true
   },
   "outputs": [],
   "source": [
    "import matplotlib.pyplot as plt\n",
    "\n",
    "from sklearn.metrics import RocCurveDisplay\n",
    "\n",
    "y_score = logreg.predict_proba(X_test)\n",
    "# y_score= (logreg.predict_proba(X_test)[:, class_id] >= 0.9).astype(int) \n",
    "# print(y_pred_new_threshold)\n",
    "\n",
    "for i in range(0,8):\n",
    "    display = RocCurveDisplay.from_predictions(\n",
    "        y_onehot_test[:, i],\n",
    "        y_score[:, i],\n",
    "        name=f\"{cells[i]} vs the rest\",\n",
    "        color=\"darkorange\",\n",
    "    )\n",
    "    _ = display.ax_.set(\n",
    "    xlabel=\"False Positive Rate\",\n",
    "    ylabel=\"True Positive Rate\",\n",
    "    title='One-vs-Rest ROC curves:\\n {} vs rest of the cells'.format(cells[i]),\n",
    ")\n"
   ]
  },
  {
   "cell_type": "code",
   "execution_count": null,
   "metadata": {},
   "outputs": [],
   "source": [
    "from sklearn.metrics import auc, roc_curve, roc_auc_score\n",
    "\n",
    "# store the fpr, tpr, and roc_auc for all averaging strategies\n",
    "fpr, tpr, roc_auc = dict(), dict(), dict()\n",
    "# Compute micro-average ROC curve and ROC area\n",
    "fpr[\"micro\"], tpr[\"micro\"], _ = roc_curve(y_onehot_test.ravel(), y_score.ravel())\n",
    "roc_auc[\"micro\"] = auc(fpr[\"micro\"], tpr[\"micro\"])\n",
    "\n",
    "print(f\"Micro-averaged One-vs-Rest ROC AUC score:\\n{roc_auc['micro']:.2f}\")\n",
    "\n",
    "# ---------------------\n",
    "# Can also evaluate with the build-in method, but for the next plot we need to have the variables\n",
    "\n",
    "# micro_roc_auc_ovr = roc_auc_score(\n",
    "#     y_test,\n",
    "#     y_score,\n",
    "#     multi_class=\"ovr\",\n",
    "#     average=\"micro\",\n",
    "# )\n",
    "\n",
    "# print(f\"Micro-averaged One-vs-Rest ROC AUC score:\\n{micro_roc_auc_ovr:.2f}\")\n"
   ]
  },
  {
   "cell_type": "code",
   "execution_count": null,
   "metadata": {},
   "outputs": [],
   "source": [
    "# ROC curve using the OvR macro-average\n",
    "\n",
    "n_classes = 8\n",
    "for i in range(n_classes):\n",
    "    fpr[i], tpr[i], _ = roc_curve(y_onehot_test[:, i], y_score[:, i])\n",
    "    roc_auc[i] = auc(fpr[i], tpr[i])\n",
    "\n",
    "fpr_grid = np.linspace(0.0, 1.0, 1000)\n",
    "\n",
    "# Interpolate all ROC curves at these points\n",
    "mean_tpr = np.zeros_like(fpr_grid)\n",
    "\n",
    "for i in range(n_classes):\n",
    "    mean_tpr += np.interp(fpr_grid, fpr[i], tpr[i])  # linear interpolation\n",
    "\n",
    "# Average it and compute AUC\n",
    "mean_tpr /= n_classes\n",
    "\n",
    "fpr[\"macro\"] = fpr_grid\n",
    "tpr[\"macro\"] = mean_tpr\n",
    "roc_auc[\"macro\"] = auc(fpr[\"macro\"], tpr[\"macro\"])\n",
    "\n",
    "print(f\"Macro-averaged One-vs-Rest ROC AUC score:\\n{roc_auc['macro']:.2f}\")\n",
    "\n",
    "# ---------------------\n",
    "# Can also evaluate with the build-in method, but for the next plot we need to have the variables\n",
    "# macro_roc_auc_ovr = roc_auc_score(\n",
    "#     y_test,\n",
    "#     y_score,\n",
    "#     multi_class=\"ovr\",\n",
    "#     average=\"macro\",\n",
    "# )\n",
    "# print(f\"Macro-averaged One-vs-Rest ROC AUC score:\\n{macro_roc_auc_ovr:.2f}\")\n"
   ]
  },
  {
   "cell_type": "markdown",
   "metadata": {},
   "source": [
    "NOTE : In a multi-class classification setup with highly imbalanced classes, micro-averaging is preferable over macro-averaging. In such cases, one can alternatively use a weighted macro-averaging, not demoed here."
   ]
  },
  {
   "cell_type": "code",
   "execution_count": null,
   "metadata": {},
   "outputs": [],
   "source": [
    "from itertools import cycle\n",
    "\n",
    "fig, ax = plt.subplots(figsize=(6, 6))\n",
    "\n",
    "#Plotting micro-avg Roc curve\n",
    "plt.plot(\n",
    "    fpr[\"micro\"],\n",
    "    tpr[\"micro\"],\n",
    "    label=f\"micro-average ROC curve (AUC = {roc_auc['micro']:.2f})\",\n",
    "    color=\"deeppink\",\n",
    "    linestyle=\":\",\n",
    "    linewidth=4,\n",
    ")\n",
    "\n",
    "# Plotting Macro-AVG Roc curve\n",
    "plt.plot(\n",
    "    fpr[\"macro\"],\n",
    "    tpr[\"macro\"],\n",
    "    label=f\"macro-average ROC curve (AUC = {roc_auc['macro']:.2f})\",\n",
    "    color=\"navy\",\n",
    "    linestyle=\":\",\n",
    "    linewidth=4,\n",
    ")\n",
    "\n",
    "# Classes numbers\n",
    "n_classes = 8\n",
    "\n",
    "# Generate a color palette\n",
    "colors = cycle(plt.cm.tab10(np.linspace(0, 1, n_classes)))\n",
    "\n",
    "for class_id, color in zip(range(n_classes), colors):\n",
    "    RocCurveDisplay.from_predictions(\n",
    "        y_onehot_test[:, class_id],\n",
    "        y_score[:, class_id],\n",
    "        name=f\"ROC curve for {cells[class_id]}\",\n",
    "        color=color,\n",
    "        ax=ax,\n",
    "    )\n",
    "\n",
    "_ = ax.set(\n",
    "    xlabel=\"False Positive Rate\",\n",
    "    ylabel=\"True Positive Rate\",\n",
    "    title=\"Extension of Receiver Operating Characteristic\\nto One-vs-Rest multiclass\",\n",
    ")\n",
    "\n",
    "#reference: https://scikit-learn.org/stable/auto_examples/model_selection/plot_roc.html"
   ]
  },
  {
   "cell_type": "markdown",
   "metadata": {},
   "source": [
    "## Using the model to predict the specifics images"
   ]
  },
  {
   "cell_type": "code",
   "execution_count": null,
   "metadata": {},
   "outputs": [],
   "source": [
    "# Load the model \n",
    "\n",
    "# logreg = joblib.load('../models/logistic_regression_model.pkl')\n",
    "# result = logreg.score(X_test, y_test)\n",
    "# print(result)"
   ]
  },
  {
   "cell_type": "code",
   "execution_count": null,
   "metadata": {},
   "outputs": [],
   "source": [
    "filename = '../datasets/dataset_normal/basophil/BA_47.jpg'\n",
    "# filename = '../datasets/dataset_normal/neutrophil/BNE_715.jpg'\n",
    "\n",
    "cells = {\n",
    "    0 : 'basophil',\n",
    "    1 : 'eosinophil',\n",
    "    2 : 'erythroblast',\n",
    "    3 : 'ig',\n",
    "    4 : 'lymphocyte',\n",
    "    5 : 'monocyte',\n",
    "    6 : 'neutrophil',\n",
    "    7 : 'platelet',\n",
    "}\n",
    "\n",
    "img = cv2.imread(os.path.join(filename))\n",
    "img = cv2.resize(img, (100, 100))  # Resize image\n",
    "img = cv2.cvtColor(img, cv2.COLOR_BGR2GRAY)  # Convert to grayscale\n",
    "X = img.flatten()  # Flatten image\n",
    "X = X / 255.0  \n",
    "\n",
    "result = logreg.predict([X])\n",
    "print(f\"The cell that was detect was: {cells[result[0]]}\")"
   ]
  },
  {
   "cell_type": "code",
   "execution_count": null,
   "metadata": {},
   "outputs": [],
   "source": []
  }
 ],
 "metadata": {
  "kernelspec": {
   "display_name": "Python 3 (ipykernel)",
   "language": "python",
   "name": "python3"
  },
  "language_info": {
   "codemirror_mode": {
    "name": "ipython",
    "version": 3
   },
   "file_extension": ".py",
   "mimetype": "text/x-python",
   "name": "python",
   "nbconvert_exporter": "python",
   "pygments_lexer": "ipython3",
   "version": "3.8.15"
  }
 },
 "nbformat": 4,
 "nbformat_minor": 4
}
